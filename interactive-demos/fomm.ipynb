{
  "nbformat": 4,
  "nbformat_minor": 0,
  "metadata": {
    "kernelspec": {
      "display_name": "Python 3",
      "language": "python",
      "name": "python3"
    },
    "accelerator": "GPU",
    "language_info": {
      "codemirror_mode": {
        "name": "ipython",
        "version": 3
      },
      "file_extension": ".py",
      "mimetype": "text/x-python",
      "name": "python",
      "nbconvert_exporter": "python",
      "pygments_lexer": "ipython3",
      "version": "3.6.8"
    },
    "colab": {
      "name": "fomm.ipynb",
      "provenance": []
    }
  },
  "cells": [
    {
      "cell_type": "markdown",
      "metadata": {
        "id": "OOg8Wj6pMvzM"
      },
      "source": [
        "# First Order Motion Model\n",
        "![Sample of image animation by first order motion model](https://raw.githubusercontent.com/sony/nnabla-examples/master/GANs/first-order-model/imgs/sample_fake.gif)\n",
        "\n",
        "This example interactively demonstrates [First Order Motion Model](https://papers.nips.cc/paper/2019/file/31c0b36aef265d9221af80872ceb62f9-Paper.pdf), a model for motion transfer which can be used to generate an *image animation*.\n",
        "\n",
        "**This notebook contains a script (record_video) which is distributed under CC BY-SA 4.0 license by [Emily Xie](https://stackoverflow.com/users/2738225/emily-xie) at https://stackoverflow.com/a/62804023, therefore this notebook is also distributed under the same license.**\n"
      ]
    },
    {
      "cell_type": "markdown",
      "metadata": {
        "id": "5c_CL367MvzO"
      },
      "source": [
        "# Preparation\n",
        "Let's start by installing nnabla and accessing [nnabla-examples repository](https://github.com/sony/nnabla-examples). If you're running on Colab, make sure that your Runtime setting is set as GPU, which can be set up from the top menu (Runtime → change runtime type), and make sure to click **Connect** on the top right-hand side of the screen before you start."
      ]
    },
    {
      "cell_type": "code",
      "metadata": {
        "id": "w4O0M2WjMvzP"
      },
      "source": [
        "!pip install nnabla-ext-cuda100\n",
        "!git clone https://github.com/sony/nnabla-examples.git\n",
        "%cd nnabla-examples/GANs/first-order-model"
      ],
      "execution_count": null,
      "outputs": []
    },
    {
      "cell_type": "markdown",
      "metadata": {
        "id": "HleGsmtEMvzQ"
      },
      "source": [
        "We need the latest PyYAML package to run this example, so we will upgrade that."
      ]
    },
    {
      "cell_type": "code",
      "metadata": {
        "id": "J9-rTtekMvzQ"
      },
      "source": [
        "!pip install --upgrade PyYAML"
      ],
      "execution_count": null,
      "outputs": []
    },
    {
      "cell_type": "markdown",
      "metadata": {
        "id": "MRmlx4vcMvzQ"
      },
      "source": [
        "Now we define a function which plays videos in Colab. Simply run the following cell."
      ]
    },
    {
      "cell_type": "code",
      "metadata": {
        "id": "WZVccRY0MvzQ"
      },
      "source": [
        "from IPython.display import HTML\n",
        "from base64 import b64encode\n",
        "\n",
        "\n",
        "def play_video(filename, height=512, width=512):\n",
        "    mp4 = open(filename, 'rb').read()\n",
        "    data_url = \"data:video/mp4;base64,\" + b64encode(mp4).decode()\n",
        "    return HTML(f\"\"\"\n",
        "    <video width={width} height={height} controls>\n",
        "          <source src={data_url} type=\"video/mp4\">\n",
        "    </video>\"\"\")"
      ],
      "execution_count": null,
      "outputs": []
    },
    {
      "cell_type": "markdown",
      "metadata": {
        "id": "SRf6UH2MMvzR"
      },
      "source": [
        "# Quickstart\n",
        "Now take a look what this model can do! Simply run the following cells.\n"
      ]
    },
    {
      "cell_type": "code",
      "metadata": {
        "id": "Xq7KxEGiMvzR"
      },
      "source": [
        "!python animate.py --source imgs/sample_src.png \\\n",
        "                  --driving imgs/sample_drv.mp4 \\\n",
        "                  --adapt-movement-scale --fps 24"
      ],
      "execution_count": null,
      "outputs": []
    },
    {
      "cell_type": "code",
      "metadata": {
        "id": "wxUsuDpPMvzS"
      },
      "source": [
        "play_video('result/arbitrary/sample_src.png_by_sample_drv.mp4')"
      ],
      "execution_count": null,
      "outputs": []
    },
    {
      "cell_type": "markdown",
      "metadata": {
        "id": "DIcm2lC0MvzS"
      },
      "source": [
        "As you can see, the model generates an *animation* of source image using the reference motion of driving video.\n",
        "\n",
        "Next, let's try with a different image. Please upload some face image you have. Note that the face **must** have the same pose as the first frame of the driving video, in short, the image must contain frontal face."
      ]
    },
    {
      "cell_type": "markdown",
      "metadata": {
        "id": "RpRNeX6OMvzT"
      },
      "source": [
        "# Upload Image\n",
        "Run the following cell to upload your own image. Note that too small images might cause a poor result.\n"
      ]
    },
    {
      "cell_type": "code",
      "metadata": {
        "id": "9VAJ51EZMvzT",
        "outputId": "9cd2377b-ec50-45bf-9138-5b6b32608b0a",
        "colab": {
          "resources": {
            "http://localhost:8080/nbextensions/google.colab/files.js": {
              "data": "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",
              "ok": true,
              "headers": [
                [
                  "content-type",
                  "application/javascript"
                ]
              ],
              "status": 200,
              "status_text": "OK"
            }
          },
          "base_uri": "https://localhost:8080/",
          "height": 75
        }
      },
      "source": [
        "from google.colab import files\n",
        "\n",
        "img = files.upload()"
      ],
      "execution_count": 13,
      "outputs": [
        {
          "output_type": "display_data",
          "data": {
            "text/html": [
              "\n",
              "     <input type=\"file\" id=\"files-7a1ccf55-9258-4f4c-9165-a1d083aca2a2\" name=\"files[]\" multiple disabled\n",
              "        style=\"border:none\" />\n",
              "     <output id=\"result-7a1ccf55-9258-4f4c-9165-a1d083aca2a2\">\n",
              "      Upload widget is only available when the cell has been executed in the\n",
              "      current browser session. Please rerun this cell to enable.\n",
              "      </output>\n",
              "      <script src=\"/nbextensions/google.colab/files.js\"></script> "
            ],
            "text/plain": [
              "<IPython.core.display.HTML object>"
            ]
          },
          "metadata": {
            "tags": []
          }
        },
        {
          "output_type": "stream",
          "text": [
            "Saving 00_eyes_open.jpeg to 00_eyes_open.jpeg\n"
          ],
          "name": "stdout"
        }
      ]
    },
    {
      "cell_type": "markdown",
      "metadata": {
        "id": "Y6RMBA-OMvzT"
      },
      "source": [
        "Let's rename the image for convenience.\n",
        "\n"
      ]
    },
    {
      "cell_type": "code",
      "metadata": {
        "id": "oRulYOxyMvzU"
      },
      "source": [
        "import os\n",
        "ext = os.path.splitext(list(img.keys())[-1])[-1]\n",
        "os.rename(list(img.keys())[-1], \"input_image{}\".format(ext)) \n",
        "input_img = \"input_image\" + ext"
      ],
      "execution_count": 14,
      "outputs": []
    },
    {
      "cell_type": "markdown",
      "metadata": {
        "id": "S3Gpm0qHMvzU"
      },
      "source": [
        "# Image Animation using arbitrary source images\n",
        "\n",
        "Now that you uploaded the image, let's use that for animation. The source image comes to life!"
      ]
    },
    {
      "cell_type": "code",
      "metadata": {
        "id": "4tcMr4gbNVBR",
        "outputId": "95c1c18d-091b-40f3-f607-f375fde2c2cd",
        "colab": {
          "base_uri": "https://localhost:8080/"
        }
      },
      "source": [
        "!cat animate.py"
      ],
      "execution_count": 17,
      "outputs": [
        {
          "output_type": "stream",
          "text": [
            "# Copyright (c) 2020 Sony Corporation. All Rights Reserved.\n",
            "#\n",
            "# Licensed under the Apache License, Version 2.0 (the \"License\");\n",
            "# you may not use this file except in compliance with the License.\n",
            "# You may obtain a copy of the License at\n",
            "#\n",
            "#     http://www.apache.org/licenses/LICENSE-2.0\n",
            "#\n",
            "# Unless required by applicable law or agreed to in writing, software\n",
            "# distributed under the License is distributed on an \"AS IS\" BASIS,\n",
            "# WITHOUT WARRANTIES OR CONDITIONS OF ANY KIND, either express or implied.\n",
            "# See the License for the specific language governing permissions and\n",
            "# limitations under the License.\n",
            "\n",
            "import os\n",
            "import logging\n",
            "import argparse\n",
            "import numpy as np\n",
            "\n",
            "import nnabla as nn\n",
            "import nnabla.monitor as nm\n",
            "import nnabla.functions as F\n",
            "import nnabla.logger as logger\n",
            "\n",
            "from nnabla.utils.image_utils import imread\n",
            "from nnabla.ext_utils import get_extension_context\n",
            "from nnabla.utils.data_source_loader import download\n",
            "\n",
            "from utils import read_yaml\n",
            "from frames_dataset import read_video\n",
            "from model import unlink_all, persistent_all\n",
            "from keypoint_detector import detect_keypoint\n",
            "from generator import occlusion_aware_generator\n",
            "\n",
            "from tqdm import tqdm\n",
            "from imageio import mimsave\n",
            "from scipy.spatial import ConvexHull\n",
            "\n",
            "from external_utils import Visualizer\n",
            "# this class is provided under CC BY-NC 4.0.\n",
            "# for more details, see external_utils.py.\n",
            "\n",
            "\n",
            "def download_provided_file(url, filepath=None, verbose=True):\n",
            "    if not filepath:\n",
            "        filepath = os.path.basename(url)\n",
            "    if not os.path.exists(filepath):\n",
            "        if verbose:\n",
            "            logger.info(f\"{filepath} not found. Downloading...\")\n",
            "        download(url, filepath, False)\n",
            "        if verbose:\n",
            "            logger.info(f\"Downloaded {filepath}.\")\n",
            "    return\n",
            "\n",
            "\n",
            "def adjust_kp(kp_source, kp_driving, kp_driving_initial,\n",
            "              adapt_movement_scale=1,\n",
            "              use_relative_movement=False,\n",
            "              use_relative_jacobian=False):\n",
            "\n",
            "    kp_new = {k: v for k, v in kp_driving.items()}\n",
            "\n",
            "    if use_relative_movement:\n",
            "        kp_value_diff = (kp_driving['value'] - kp_driving_initial['value'])\n",
            "        kp_value_diff *= adapt_movement_scale\n",
            "        kp_new['value'] = kp_value_diff + kp_source['value']\n",
            "\n",
            "        if use_relative_jacobian:\n",
            "            jacobian_diff = F.batch_matmul(kp_driving['jacobian'],\n",
            "                                           F.reshape(\n",
            "                                                F.batch_inv(\n",
            "                                                    F.reshape(kp_driving_initial['jacobian'],\n",
            "                                                              (-1,) +\n",
            "                                                              kp_driving_initial['jacobian'].shape[-2:],\n",
            "                                                              inplace=False)),\n",
            "                                                kp_driving_initial['jacobian'].shape))\n",
            "            kp_new['jacobian'] = F.batch_matmul(\n",
            "                jacobian_diff, kp_source['jacobian'])\n",
            "\n",
            "    return kp_new\n",
            "\n",
            "\n",
            "def reshape_result(visualization):\n",
            "    h, w = 2 * [visualization.shape[0]]\n",
            "    if visualization.shape != (h, w*29, 3):\n",
            "        assert visualization.shape == (h, w*28, 3)\n",
            "        # in case that generated images with keypoints is missing\n",
            "        visualization = np.concatenate([visualization[:, :3*w],\n",
            "                                        np.zeros((h, w, 3)).astype(np.uint8),\n",
            "                                        visualization[:, 3*w:]])\n",
            "    vis_r1 = visualization[:, :6*w]\n",
            "    vis_r2 = visualization[:, 6*w:12*w]\n",
            "    vis_r3 = visualization[:, 12*w:18*w]\n",
            "    vis_r4 = visualization[:, 18*w:24*w]\n",
            "    vis_r5 = np.concatenate(\n",
            "        [visualization[:, 24*w:], np.zeros((h, w, 3)).astype(np.uint8)], axis=1)\n",
            "    vis_reshaped = np.concatenate(\n",
            "        [vis_r1, vis_r2, vis_r3, vis_r4, vis_r5], axis=0)\n",
            "    return vis_reshaped\n",
            "\n",
            "\n",
            "def animate(args):\n",
            "\n",
            "    # get context\n",
            "    ctx = get_extension_context(args.context)\n",
            "    nn.set_default_context(ctx)\n",
            "    logger.setLevel(logging.ERROR)  # to supress minor messages\n",
            "\n",
            "    if not args.config:\n",
            "        assert not args.params, \"pretrained weights file is given, but corresponding config file is not. Please give both.\"\n",
            "        download_provided_file(\n",
            "            \"https://nnabla.org/pretrained-models/nnabla-examples/GANs/first-order-model/voxceleb_trained_info.yaml\")\n",
            "        args.config = 'voxceleb_trained_info.yaml'\n",
            "\n",
            "        download_provided_file(\n",
            "            \"https://nnabla.org/pretrained-models/nnabla-examples/GANs/first-order-model/pretrained_fomm_params.h5\")\n",
            "\n",
            "    config = read_yaml(args.config)\n",
            "\n",
            "    dataset_params = config.dataset_params\n",
            "    model_params = config.model_params\n",
            "\n",
            "    if args.detailed:\n",
            "        vis_params = config.visualizer_params\n",
            "        visualizer = Visualizer(**vis_params)\n",
            "\n",
            "    if not args.params:\n",
            "        assert \"log_dir\" in config, \"no log_dir found in config. therefore failed to locate pretrained parameters.\"\n",
            "        param_file = os.path.join(\n",
            "            config.log_dir, config.saved_parameters)\n",
            "    else:\n",
            "        param_file = args.params\n",
            "    print(f\"Loading {param_file} for image animation...\")\n",
            "    nn.load_parameters(param_file)\n",
            "\n",
            "    bs, h, w, c = [1] + dataset_params.frame_shape\n",
            "    source = nn.Variable((bs, c, h, w))\n",
            "    driving_initial = nn.Variable((bs, c, h, w))\n",
            "    driving = nn.Variable((bs, c, h, w))\n",
            "\n",
            "    filename = args.driving\n",
            "\n",
            "    # process repeated until all the test data is used\n",
            "    driving_video = read_video(\n",
            "        filename, dataset_params.frame_shape)  # (#frames, h, w, 3)\n",
            "    driving_video = np.transpose(\n",
            "        driving_video, (0, 3, 1, 2))  # (#frames, 3, h, w)\n",
            "\n",
            "    source_img = imread(args.source, channel_first=True,\n",
            "                        size=(256, 256)) / 255.\n",
            "    source_img = source_img[:3]\n",
            "\n",
            "    source.d = np.expand_dims(source_img, 0)\n",
            "    driving_initial.d = driving_video[0][:3, ]\n",
            "\n",
            "    with nn.parameter_scope(\"kp_detector\"):\n",
            "        kp_source = detect_keypoint(source,\n",
            "                                    **model_params.kp_detector_params,\n",
            "                                    **model_params.common_params,\n",
            "                                    test=True, comm=False)\n",
            "        persistent_all(kp_source)\n",
            "\n",
            "    with nn.parameter_scope(\"kp_detector\"):\n",
            "        kp_driving_initial = detect_keypoint(driving_initial,\n",
            "                                             **model_params.kp_detector_params,\n",
            "                                             **model_params.common_params,\n",
            "                                             test=True, comm=False)\n",
            "        persistent_all(kp_driving_initial)\n",
            "\n",
            "    with nn.parameter_scope(\"kp_detector\"):\n",
            "        kp_driving = detect_keypoint(driving,\n",
            "                                     **model_params.kp_detector_params,\n",
            "                                     **model_params.common_params,\n",
            "                                     test=True, comm=False)\n",
            "        persistent_all(kp_driving)\n",
            "\n",
            "    if args.adapt_movement_scale:\n",
            "        nn.forward_all([kp_source[\"value\"],\n",
            "                        kp_source[\"jacobian\"],\n",
            "                        kp_driving_initial[\"value\"],\n",
            "                        kp_driving_initial[\"jacobian\"]])\n",
            "        source_area = ConvexHull(kp_source['value'].d[0]).volume\n",
            "        driving_area = ConvexHull(kp_driving_initial['value'].d[0]).volume\n",
            "        adapt_movement_scale = np.sqrt(source_area) / np.sqrt(driving_area)\n",
            "    else:\n",
            "        adapt_movement_scale = 1\n",
            "\n",
            "    kp_norm = adjust_kp(kp_source=unlink_all(kp_source), kp_driving=kp_driving,\n",
            "                        kp_driving_initial=unlink_all(kp_driving_initial),\n",
            "                        adapt_movement_scale=adapt_movement_scale,\n",
            "                        use_relative_movement=args.unuse_relative_movement,\n",
            "                        use_relative_jacobian=args.unuse_relative_jacobian)\n",
            "    persistent_all(kp_norm)\n",
            "\n",
            "    with nn.parameter_scope(\"generator\"):\n",
            "        generated = occlusion_aware_generator(source,\n",
            "                                              kp_source=unlink_all(kp_source),\n",
            "                                              kp_driving=kp_norm,\n",
            "                                              **model_params.generator_params,\n",
            "                                              **model_params.common_params,\n",
            "                                              test=True, comm=False)\n",
            "\n",
            "    if not args.full and 'sparse_deformed' in generated:\n",
            "        del generated['sparse_deformed']  # remove needless info\n",
            "\n",
            "    persistent_all(generated)\n",
            "\n",
            "    generated['kp_driving'] = kp_driving\n",
            "    generated['kp_source'] = kp_source\n",
            "    generated['kp_norm'] = kp_norm\n",
            "\n",
            "    # generated contains these values;\n",
            "    # 'mask': <Variable((bs, num_kp+1, h/4, w/4)) when scale_factor=0.25\n",
            "    # 'sparse_deformed': <Variable((bs, num_kp+1, num_channel, h/4, w/4))  # (bs, num_kp + 1, c, h, w)\n",
            "    # 'occlusion_map': <Variable((bs, 1, h/4, w/4))\n",
            "    # 'deformed': <Variable((bs, c, h, w))\n",
            "    # 'prediction': <Variable((bs, c, h, w))\n",
            "\n",
            "    mode = \"arbitrary\"\n",
            "    if \"log_dir\" in config:\n",
            "        result_dir = os.path.join(args.out_dir, os.path.basename(config.log_dir), f\"{mode}\")\n",
            "    else:\n",
            "        result_dir = os.path.join(args.out_dir, \"test_result\", f\"{mode}\")\n",
            "\n",
            "    # create an empty directory to save generated results\n",
            "    _ = nm.Monitor(result_dir)\n",
            "\n",
            "    # load the header images.\n",
            "    header = imread(\"imgs/header_combined.png\", channel_first=True)\n",
            "    generated_images = list()\n",
            "\n",
            "    # compute these in advance and reuse\n",
            "    nn.forward_all([kp_source[\"value\"],\n",
            "                    kp_source[\"jacobian\"]],\n",
            "                   clear_buffer=True)\n",
            "    nn.forward_all([kp_driving_initial[\"value\"],\n",
            "                    kp_driving_initial[\"jacobian\"]],\n",
            "                   clear_buffer=True)\n",
            "\n",
            "    num_of_driving_frames = driving_video.shape[0]\n",
            "\n",
            "    for frame_idx in tqdm(range(num_of_driving_frames)):\n",
            "        driving.d = driving_video[frame_idx][:3, ]\n",
            "        nn.forward_all([generated[\"prediction\"],\n",
            "                        generated[\"deformed\"]], clear_buffer=True)\n",
            "\n",
            "        if args.detailed:\n",
            "            # visualize source w/kp, driving w/kp, deformed source, generated w/kp, generated image, occlusion map\n",
            "            visualization = visualizer.visualize(\n",
            "                source=source.d, driving=driving.d, out=generated)\n",
            "            if args.full:\n",
            "                visualization = reshape_result(visualization)  # (H, W, C)\n",
            "            combined_image = visualization.transpose(2, 0, 1)  # (C, H, W)\n",
            "\n",
            "        elif args.only_generated:\n",
            "            combined_image = np.clip(generated[\"prediction\"].d[0], 0.0, 1.0)\n",
            "            combined_image = (255*combined_image).astype(np.uint8)  # (C, H, W)\n",
            "\n",
            "        else:\n",
            "            # visualize source, driving, and generated image\n",
            "            driving_fake = np.concatenate([np.clip(driving.d[0], 0.0, 1.0),\n",
            "                                           np.clip(generated[\"prediction\"].d[0], 0.0, 1.0)], axis=2)\n",
            "            header_source = np.concatenate([np.clip(header / 255., 0.0, 1.0),\n",
            "                                            np.clip(source.d[0], 0.0, 1.0)], axis=2)\n",
            "            combined_image = np.concatenate(\n",
            "                [header_source, driving_fake], axis=1)\n",
            "            combined_image = (255*combined_image).astype(np.uint8)\n",
            "\n",
            "        generated_images.append(combined_image)\n",
            "\n",
            "    # once each video is generated, save it.\n",
            "    output_filename = f\"{os.path.splitext(os.path.basename(filename))[0]}.mp4\"\n",
            "    output_filename = f\"{os.path.basename(args.source)}_by_{output_filename}\"\n",
            "    output_filename = output_filename.replace(\"#\", \"_\")\n",
            "    if args.output_png:\n",
            "        monitor_vis = nm.MonitorImage(output_filename, nm.Monitor(result_dir),\n",
            "                                      interval=1, num_images=1,\n",
            "                                      normalize_method=lambda x: x)\n",
            "        for frame_idx, img in enumerate(generated_images):\n",
            "            monitor_vis.add(frame_idx, img)\n",
            "    else:\n",
            "        generated_images = [_.transpose(1, 2, 0) for _ in generated_images]\n",
            "        # you might need to change ffmpeg_params according to your environment.\n",
            "        mimsave(f'{os.path.join(result_dir, output_filename)}', generated_images,\n",
            "                fps=args.fps,\n",
            "                ffmpeg_params=[\"-pix_fmt\", \"yuv420p\",\n",
            "                               \"-vcodec\", \"libx264\",\n",
            "                               \"-f\", \"mp4\",\n",
            "                               \"-q\", \"0\"])\n",
            "\n",
            "    return\n",
            "\n",
            "\n",
            "def main():\n",
            "    parser = argparse.ArgumentParser()\n",
            "    parser.add_argument('--config', default=None, type=str)\n",
            "    parser.add_argument('--params', default=None, type=str)\n",
            "    parser.add_argument('--source', default=\"\", type=str)\n",
            "    parser.add_argument('--driving', default=\"\", type=str)\n",
            "    parser.add_argument('--out-dir', '-o', default=\"result\", type=str)\n",
            "    parser.add_argument('--context', '-c', default='cudnn',\n",
            "                        type=str, choices=['cudnn', 'cpu'])\n",
            "    parser.add_argument('--output-png', action='store_true',\n",
            "                        help=\"if chosen, outputs .png image file.\")\n",
            "    parser.add_argument('--fps', default=10, type=int,\n",
            "                        help=\"framerate for making video. In effect when --output-video is specified.\")\n",
            "    parser.add_argument('--only-generated', action='store_true',\n",
            "                        help=\"if chosen, outputs generated images only.\")\n",
            "    parser.add_argument('--detailed', action='store_true',\n",
            "                        help=\"if chosen, visualizes keypoints and occlusion map as well.\")\n",
            "    parser.add_argument('--full', action='store_true',\n",
            "                        help=\"if chosen, visualizes all the generated elements.\")\n",
            "    # animation params\n",
            "    parser.add_argument('--adapt-movement-scale', action='store_true',\n",
            "                        help=\"Adapt movement scale between source and driving image.\")\n",
            "    parser.add_argument('--unuse-relative-movement', action='store_false',\n",
            "                        help=\"DO NOT consider relative movement between source and driving image.\")\n",
            "    parser.add_argument('--unuse-relative-jacobian', action='store_false',\n",
            "                        help=\"DO NOT consider relative jacobian between source and driving image.\")\n",
            "\n",
            "    args = parser.parse_args()\n",
            "\n",
            "    assert args.source and args.driving, \"you need to have source and driving images for animation.\"\n",
            "\n",
            "    if args.only_generated:\n",
            "        assert not args.detailed, \"--only-generated flag is used, but --detailed is also used, disable the latter option.\"\n",
            "\n",
            "    if args.full:\n",
            "        assert args.detailed, \"specify --detailed to enable --full option.\"\n",
            "\n",
            "    animate(args)\n",
            "\n",
            "\n",
            "if __name__ == '__main__':\n",
            "    main()\n"
          ],
          "name": "stdout"
        }
      ]
    },
    {
      "cell_type": "code",
      "metadata": {
        "id": "2DLVr8uZMvzU",
        "outputId": "c39638a7-61d9-47cf-9275-604dbaa8acbc",
        "colab": {
          "base_uri": "https://localhost:8080/"
        }
      },
      "source": [
        "!python animate.py --source $input_img \\\n",
        "                  --driving imgs/sample_drv.mp4 \\\n",
        "                  --adapt-movement-scale --fps 24 \\\n",
        "                  --only-generated"
      ],
      "execution_count": 18,
      "outputs": [
        {
          "output_type": "stream",
          "text": [
            "2021-07-13 00:14:33,195 [nnabla][INFO]: Initializing CPU extension...\n",
            "2021-07-13 00:14:34,088 [nnabla][INFO]: Initializing CUDA extension...\n",
            "2021-07-13 00:14:34,117 [nnabla][INFO]: Initializing cuDNN extension...\n",
            "Loading pretrained_fomm_params.h5 for image animation...\n",
            "100% 125/125 [00:04<00:00, 28.38it/s]\n"
          ],
          "name": "stdout"
        }
      ]
    },
    {
      "cell_type": "code",
      "metadata": {
        "id": "-574mKDOMvzU",
        "outputId": "7af5139b-f177-453b-c176-8bfd00ac7f4e",
        "colab": {
          "base_uri": "https://localhost:8080/",
          "height": 533
        }
      },
      "source": [
        "play_video(f'result/arbitrary/{input_img}_by_sample_drv.mp4')"
      ],
      "execution_count": 19,
      "outputs": [
        {
          "output_type": "execute_result",
          "data": {
            "text/html": [
              "\n",
              "    <video width=512 height=512 controls>\n",
              "          <source src=data:video/mp4;base64,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 type=\"video/mp4\">\n",
              "    </video>"
            ],
            "text/plain": [
              "<IPython.core.display.HTML object>"
            ]
          },
          "metadata": {
            "tags": []
          },
          "execution_count": 19
        }
      ]
    },
    {
      "cell_type": "markdown",
      "metadata": {
        "id": "J8xFp5EtMvzV"
      },
      "source": [
        "# Record Motion Reference Video\n",
        "Now is the time to use your motion! Here you can record a video as motion reference and the model will *animate* the source image just like you do! First of all, define the function which allows Colab to access a camera and record the video with it."
      ]
    },
    {
      "cell_type": "code",
      "metadata": {
        "id": "WNvpg8-JMvzV"
      },
      "source": [
        "from IPython.display import display, Javascript\n",
        "from google.colab.output import eval_js\n",
        "from base64 import b64decode\n",
        "\n",
        "\n",
        "def record_video(filename='video.mp4'):\n",
        "\n",
        "    # code from: https://stackoverflow.com/questions/62529304/is-there-any-way-to-capture-live-video-using-webcam-in-google-colab\n",
        "\n",
        "    js = Javascript(\"\"\"\n",
        "        async function recordVideo() {\n",
        "            const options = { mimeType: \"video/webm; codecs=vp9\" };\n",
        "            const div = document.createElement('div');\n",
        "            const capture = document.createElement('button');\n",
        "            const stopCapture = document.createElement(\"button\");\n",
        "            capture.textContent = \"Start Recording\";\n",
        "            capture.style.background = \"green\";\n",
        "            capture.style.color = \"white\";\n",
        "\n",
        "            stopCapture.textContent = \"Stop Recording\";\n",
        "            stopCapture.style.background = \"red\";\n",
        "            stopCapture.style.color = \"white\";\n",
        "            div.appendChild(capture);\n",
        "\n",
        "            const video = document.createElement('video');\n",
        "            const recordingVid = document.createElement(\"video\");\n",
        "            video.style.display = 'block';\n",
        "\n",
        "            const stream = await navigator.mediaDevices.getUserMedia({video: { width: {ideal: 256}, height: {ideal: 256}, facingMode: 'user'}});\n",
        "            let recorder = new MediaRecorder(stream, options);\n",
        "            document.body.appendChild(div);\n",
        "            div.appendChild(video);\n",
        "            video.srcObject = stream;\n",
        "            await video.play();\n",
        "\n",
        "            // Resize the output to fit the video element.\n",
        "            google.colab.output.setIframeHeight(document.documentElement.scrollHeight, true);\n",
        "\n",
        "            await new Promise((resolve) => {\n",
        "                capture.onclick = resolve;\n",
        "            });\n",
        "            recorder.start();\n",
        "            capture.replaceWith(stopCapture);\n",
        "            await new Promise((resolve) => stopCapture.onclick = resolve);\n",
        "            recorder.stop();\n",
        "\n",
        "            let recData = await new Promise((resolve) => recorder.ondataavailable = resolve);\n",
        "            let arrBuff = await recData.data.arrayBuffer();\n",
        "            stream.getVideoTracks()[0].stop();\n",
        "            div.remove();\n",
        "\n",
        "            let binaryString = \"\";\n",
        "            let bytes = new Uint8Array(arrBuff);\n",
        "            bytes.forEach((byte) => {\n",
        "                binaryString += String.fromCharCode(byte);\n",
        "            })\n",
        "            return btoa(binaryString);\n",
        "        }\n",
        "    \"\"\")\n",
        "    try:\n",
        "        display(js)\n",
        "        data = eval_js('recordVideo({})')\n",
        "        binary = b64decode(data)\n",
        "        with open(filename, \"wb\") as video_file:\n",
        "            video_file.write(binary)\n",
        "        print(\"Finished recording video.\")\n",
        "    except Exception as err:\n",
        "        # In case any exceptions arise\n",
        "        print(str(err))\n",
        "    return filename"
      ],
      "execution_count": null,
      "outputs": []
    },
    {
      "cell_type": "markdown",
      "metadata": {
        "id": "1tczS2j0MvzV"
      },
      "source": [
        "The following cell tries to use a camera on your device. Press \"Start Recording\" and it will start recording! When you press \"Stop Recording\", the recording will stop and the video file will be saved."
      ]
    },
    {
      "cell_type": "code",
      "metadata": {
        "id": "Oqa5mKJcMvzV"
      },
      "source": [
        "video_width = 256\n",
        "\n",
        "video_path = record_video()\n",
        "play_video(video_path, height=256, width=256)"
      ],
      "execution_count": null,
      "outputs": []
    },
    {
      "cell_type": "markdown",
      "metadata": {
        "id": "dmPext7hMvzW"
      },
      "source": [
        "Then let's make an animation using your video!"
      ]
    },
    {
      "cell_type": "code",
      "metadata": {
        "id": "aL_RqbKHMvzW"
      },
      "source": [
        "!python animate.py --source $input_img \\\n",
        "                  --driving video.mp4 \\\n",
        "                  --adapt-movement-scale --fps 24"
      ],
      "execution_count": null,
      "outputs": []
    },
    {
      "cell_type": "markdown",
      "metadata": {
        "id": "RiQy3MbCMvzW"
      },
      "source": [
        "Executing the following cell will show you the result.\n",
        "\n",
        "Note that the animation result strongly depends on the initial pose of source image and driving video, so if the result looks bad, just try with the same pose as the source image. "
      ]
    },
    {
      "cell_type": "code",
      "metadata": {
        "id": "4bXfEnAIMvzW"
      },
      "source": [
        "play_video(f'result/arbitrary/{input_img}_by_video.mp4')"
      ],
      "execution_count": null,
      "outputs": []
    }
  ]
}